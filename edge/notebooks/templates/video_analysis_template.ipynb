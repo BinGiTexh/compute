{
 "cells": [
  {
   "cell_type": "markdown",
   "metadata": {},
   "source": [
    "# Marine Science Video Analysis\n",
    "\n",
    "This notebook provides interactive analysis of video processing results with object detection."
   ]
  },
  {
   "cell_type": "code",
   "execution_count": null,
   "metadata": {
    "tags": [
     "parameters"
    ]
   },
   "outputs": [],
   "source": [
    "# Parameters (overwritten by papermill)\n",
    "video_path = \"test_diver_video.mp4\"\n",
    "model_id = \"fish-scuba-project/2\"\n",
    "confidence = 0.1\n",
    "fps_limit = 5"
   ]
  },
  {
   "cell_type": "code",
   "execution_count": null,
   "metadata": {},
   "outputs": [],
   "source": [
    "import os\n",
    "import json\n",
    "import pandas as pd\n",
    "import matplotlib.pyplot as plt\n",
    "import seaborn as sns\n",
    "from datetime import datetime\n",
    "from pathlib import Path\n",
    "\n",
    "# Set up plotting style\n",
    "plt.style.use('seaborn')\n",
    "sns.set_palette(\"husl\")"
   ]
  },
  {
   "cell_type": "markdown",
   "metadata": {},
   "source": [
    "## 1. System Information and Configuration"
   ]
  },
  {
   "cell_type": "code",
   "execution_count": null,
   "metadata": {},
   "outputs": [],
   "source": [
    "# Load processing results\n",
    "video_name = Path(video_path).stem\n",
    "with open(f'/output/{video_name}_results.json') as f:\n",
    "    results = json.load(f)\n",
    "\n",
    "# Display system information\n",
    "print(\"=== Processing Configuration ===\")\n",
    "print(f\"Video: {results['video_info']['path']}\")\n",
    "print(f\"Resolution: {results['video_info']['resolution']}\")\n",
    "print(f\"FPS: {results['video_info']['fps']}\")\n",
    "print(f\"\\nModel ID: {results['processing_info']['model_id']}\")\n",
    "print(f\"Confidence Threshold: {results['processing_info']['confidence_threshold']}\")"
   ]
  },
  {
   "cell_type": "markdown",
   "metadata": {},
   "source": [
    "## 2. Detection Statistics"
   ]
  },
  {
   "cell_type": "code",
   "execution_count": null,
   "metadata": {},
   "outputs": [],
   "source": [
    "# Create DataFrame from frame results\n",
    "frames_data = []\n",
    "for frame in results['frame_results']:\n",
        frames_data.append({\n",
            'frame_number': frame['frame_number'],\n",
            'timestamp': frame['timestamp'],\n",
            'detections': len(frame['predictions']),\n",
            'cpu_percent': frame['system_stats']['cpu_percent'],\n",
            'memory_percent': frame['system_stats']['memory_percent']\n",
        })\n",
    "\n",
    "df = pd.DataFrame(frames_data)\n",
    "\n",
    "# Plot detection count over time\n",
    "plt.figure(figsize=(15, 5))\n",
    "plt.plot(df['frame_number'], df['detections'])\n",
    "plt.title('Detections per Frame')\n",
    "plt.xlabel('Frame Number')\n",
    "plt.ylabel('Number of Detections')\n",
    "plt.grid(True)\n",
    "plt.show()"
   ]
  },
  {
   "cell_type": "markdown",
   "metadata": {},
   "source": [
    "## 3. System Performance"
   ]
  },
  {
   "cell_type": "code",
   "execution_count": null,
   "metadata": {},
   "outputs": [],
   "source": [
    "# Plot system metrics\n",
    "fig, (ax1, ax2) = plt.subplots(2, 1, figsize=(15, 10))\n",
    "\n",
    "# CPU Usage\n",
    "ax1.plot(df['frame_number'], df['cpu_percent'], color='blue')\n",
    "ax1.set_title('CPU Usage During Processing')\n",
    "ax1.set_xlabel('Frame Number')\n",
    "ax1.set_ylabel('CPU %')\n",
    "ax1.grid(True)\n",
    "\n",
    "# Memory Usage\n",
    "ax2.plot(df['frame_number'], df['memory_percent'], color='green')\n",
    "ax2.set_title('Memory Usage During Processing')\n",
    "ax2.set_xlabel('Frame Number')\n",
    "ax2.set_ylabel('Memory %')\n",
    "ax2.grid(True)\n",
    "\n",
    "plt.tight_layout()\n",
    "plt.show()"
   ]
  },
  {
   "cell_type": "markdown",
   "metadata": {},
   "source": [
    "## 4. Detection Analysis"
   ]
  },
  {
   "cell_type": "code",
   "execution_count": null,
   "metadata": {},
   "outputs": [],
   "source": [
    "# Analyze detections by class\n",
    "class_counts = {}\n",
    "confidence_by_class = {}\n",
    "\n",
    "for frame in results['frame_results']:\n",
        for pred in frame['predictions']:\n",
            class_name = pred['class']\n",
            confidence = pred['confidence']\n",
            \n",
            if class_name not in class_counts:\n",
                class_counts[class_name] = 0\n",
                confidence_by_class[class_name] = []\n",
            \n",
            class_counts[class_name] += 1\n",
            confidence_by_class[class_name].append(confidence)\n",
    "\n",
    "# Plot detection distribution\n",
    "plt.figure(figsize=(12, 6))\n",
    "plt.bar(class_counts.keys(), class_counts.values())\n",
    "plt.title('Detections by Class')\n",
    "plt.xticks(rotation=45)\n",
    "plt.xlabel('Class')\n",
    "plt.ylabel('Number of Detections')\n",
    "plt.tight_layout()\n",
    "plt.show()\n",
    "\n",
    "# Plot confidence distribution\n",
    "plt.figure(figsize=(12, 6))\n",
    "for class_name, confidences in confidence_by_class.items():\n",
        sns.kdeplot(data=confidences, label=class_name)\n",
    "\n",
    "plt.title('Confidence Distribution by Class')\n",
    "plt.xlabel('Confidence')\n",
    "plt.ylabel('Density')\n",
    "plt.legend()\n",
    "plt.tight_layout()\n",
    "plt.show()"
   ]
  }
 ],
 "metadata": {
  "kernelspec": {
   "display_name": "Python 3",
   "language": "python",
   "name": "python3"
  }
 },
 "nbformat": 4,
 "nbformat_minor": 4
}
